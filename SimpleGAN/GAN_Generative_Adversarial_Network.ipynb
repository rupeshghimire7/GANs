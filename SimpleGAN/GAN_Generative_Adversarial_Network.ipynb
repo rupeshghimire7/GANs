{
  "nbformat": 4,
  "nbformat_minor": 0,
  "metadata": {
    "colab": {
      "provenance": [],
      "gpuType": "T4"
    },
    "kernelspec": {
      "name": "python3",
      "display_name": "Python 3"
    },
    "language_info": {
      "name": "python"
    },
    "accelerator": "GPU"
  },
  "cells": [
    {
      "cell_type": "code",
      "execution_count": 2,
      "metadata": {
        "id": "1dovTekXKq_Z"
      },
      "outputs": [],
      "source": [
        "import torch\n",
        "import torch.nn as nn\n",
        "import torch.optim as optim\n",
        "from torch.utils.data import DataLoader\n",
        "\n",
        "import torchvision\n",
        "import torchvision.datasets as datasets\n",
        "import torchvision.transforms as transforms\n",
        "\n",
        "from torch.utils.tensorboard import SummaryWriter"
      ]
    },
    {
      "cell_type": "markdown",
      "source": [
        "# Discriminator"
      ],
      "metadata": {
        "id": "ZK_x81Ft9YCD"
      }
    },
    {
      "cell_type": "code",
      "source": [
        "class Discriminator(nn.Module):\n",
        "  def __init__(self, img_dim):\n",
        "    super().__init__()\n",
        "    self.discriminator = nn.Sequential(\n",
        "        nn.Linear(img_dim, 128),\n",
        "        nn.LeakyReLU(0.1),\n",
        "        nn.Linear(128,1),\n",
        "        nn.Sigmoid(),\n",
        "    )\n",
        "\n",
        "  def forward(self, x):\n",
        "    return self.discriminator(x)"
      ],
      "metadata": {
        "id": "c2cU5HOY7r8m"
      },
      "execution_count": 3,
      "outputs": []
    },
    {
      "cell_type": "markdown",
      "source": [
        "# Generator"
      ],
      "metadata": {
        "id": "BsbaTJhnBa3V"
      }
    },
    {
      "cell_type": "code",
      "source": [
        "class Generator(nn.Module):\n",
        "  def __init__(self, z_dim, img_dim):\n",
        "    super().__init__()\n",
        "    self.gen = nn.Sequential(\n",
        "        nn.Linear(z_dim, 256),\n",
        "        nn.LeakyReLU(0.1),\n",
        "        nn.Linear(256, img_dim),\n",
        "        nn.Tanh(),\n",
        "    )\n",
        "\n",
        "  def forward(self,x):\n",
        "    return self.gen(x)"
      ],
      "metadata": {
        "id": "6edFIyNPBZrH"
      },
      "execution_count": 5,
      "outputs": []
    },
    {
      "cell_type": "code",
      "source": [],
      "metadata": {
        "id": "hCgj_GvQB6L_"
      },
      "execution_count": null,
      "outputs": []
    }
  ]
}