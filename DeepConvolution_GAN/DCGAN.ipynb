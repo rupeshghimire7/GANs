{
  "nbformat": 4,
  "nbformat_minor": 0,
  "metadata": {
    "colab": {
      "provenance": [],
      "gpuType": "T4"
    },
    "kernelspec": {
      "name": "python3",
      "display_name": "Python 3"
    },
    "language_info": {
      "name": "python"
    },
    "accelerator": "GPU"
  },
  "cells": [
    {
      "cell_type": "code",
      "execution_count": 1,
      "metadata": {
        "id": "N1nUHN2Baevb"
      },
      "outputs": [],
      "source": [
        "import torch\n",
        "import torch.nn as nn"
      ]
    },
    {
      "cell_type": "markdown",
      "source": [
        "# Discriminator"
      ],
      "metadata": {
        "id": "HwZGzUWPdGMD"
      }
    },
    {
      "cell_type": "code",
      "source": [
        "class Discriminator(nn.Module):\n",
        "\n",
        "  def __init__(self, channels_img, features_dim):\n",
        "    super(Discriminator, self).__init__()\n",
        "    self.disc = nn.Sequential(\n",
        "        # input: N * channels_img* 64*64\n",
        "        nn.Conv2d(channels_img, features_dim, kernel_size=4, stride=2, padding=1),\n",
        "        nn.LeakyReLU(0.2),\n",
        "        self._block(features_dim,features_dim*2, 4 , 2 , 1),\n",
        "        self._block(features_dim*2,features_dim*4, 4 , 2 , 1),\n",
        "        self._block(features_dim*4,features_dim*8, 4 , 2 , 1),\n",
        "        nn.Conv2d(features_dim*8, 1, kernel_size=4, stride=2, padding=0),\n",
        "        nn.Sigmoid(),\n",
        "    )\n",
        "\n",
        "\n",
        "\n",
        "  def _block(self, in_channels, out_channels, kernel_size, stride, padding):\n",
        "    return nn.Sequential(\n",
        "        nn.Conv2d(\n",
        "            in_channels,\n",
        "            out_channels,\n",
        "            kernel_size,\n",
        "            stride,\n",
        "            padding,\n",
        "            bias=False\n",
        "        ),\n",
        "        nn.BatchNorm2d(out_channels),\n",
        "        nn.LeakyReLU(0.2),\n",
        "    )\n",
        "\n",
        "\n",
        "\n",
        "  def forward(self,x):\n",
        "    return self.disc(x)"
      ],
      "metadata": {
        "id": "UMTlXryrdEyo"
      },
      "execution_count": 4,
      "outputs": []
    },
    {
      "cell_type": "code",
      "source": [],
      "metadata": {
        "id": "7tYN7b9Fggm3"
      },
      "execution_count": null,
      "outputs": []
    }
  ]
}