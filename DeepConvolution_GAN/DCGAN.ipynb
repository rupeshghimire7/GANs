{
  "nbformat": 4,
  "nbformat_minor": 0,
  "metadata": {
    "colab": {
      "provenance": [],
      "gpuType": "T4"
    },
    "kernelspec": {
      "name": "python3",
      "display_name": "Python 3"
    },
    "language_info": {
      "name": "python"
    },
    "accelerator": "GPU"
  },
  "cells": [
    {
      "cell_type": "code",
      "execution_count": 2,
      "metadata": {
        "id": "N1nUHN2Baevb"
      },
      "outputs": [],
      "source": [
        "import torch\n",
        "import torch.nn as nn"
      ]
    },
    {
      "cell_type": "markdown",
      "source": [
        "# Discriminator"
      ],
      "metadata": {
        "id": "HwZGzUWPdGMD"
      }
    },
    {
      "cell_type": "code",
      "source": [
        "class Discriminator(nn.Module):\n",
        "\n",
        "  def __init__(self, channels_img, features_d):\n",
        "    super(Discriminator, self).__init__()\n",
        "    self.disc = nn.Sequential(\n",
        "        # input: N * channels_img* 64*64\n",
        "        nn.Conv2d(channels_img, features_d, kernel_size=4, stride=2, padding=1),\n",
        "        nn.LeakyReLU(0.2),\n",
        "        # N*feature_dim, 32*32\n",
        "        self._block(features_d,features_d*2, 4 , 2 , 1), # N*feature_dim, 16*16\n",
        "        self._block(features_d*2,features_d*4, 4 , 2 , 1), # N*feature_dim, 8*8\n",
        "        self._block(features_d*4,features_d*8, 4 , 2 , 1), # N*feature_dim, 4*4\n",
        "        nn.Conv2d(features_d*8, 1, kernel_size=4, stride=2, padding=0), # N*feature_dim, 1*1\n",
        "        nn.Sigmoid(),\n",
        "    )\n",
        "\n",
        "\n",
        "\n",
        "  def _block(self, in_channels, out_channels, kernel_size, stride, padding):\n",
        "    return nn.Sequential(\n",
        "        nn.Conv2d(\n",
        "            in_channels,\n",
        "            out_channels,\n",
        "            kernel_size,\n",
        "            stride,\n",
        "            padding,\n",
        "            bias=False\n",
        "        ),\n",
        "        nn.BatchNorm2d(out_channels),\n",
        "        nn.LeakyReLU(0.2),\n",
        "    )\n",
        "\n",
        "\n",
        "\n",
        "  def forward(self,x):\n",
        "    return self.disc(x)"
      ],
      "metadata": {
        "id": "UMTlXryrdEyo"
      },
      "execution_count": 3,
      "outputs": []
    },
    {
      "cell_type": "code",
      "source": [
        "class Generator(nn.Module):\n",
        "\n",
        "  def __init__(self, z_dim, channel_img, features_g):\n",
        "    super(Generator, self).__init__()\n",
        "    self.gen = nn.Sequential(\n",
        "            # input: N * z_dim * 1*1\n",
        "            self._block(z_dim, features_g*16, 4, 1, 0), # N * f_g*16 * 4*4\n",
        "            self._block(features_g*16, features_g*8, 4, 2, 1), # 8*8\n",
        "            self._block(features_g*8, features_g*4, 4, 2, 1), # 16*16\n",
        "            self._block(features_g*4, features_g*2, 4, 2, 1), # 32*32\n",
        "            nn.ConvTranspose2d(features_g*2, channel_img, kernel_size=4, stride=2, padding=1), # 64*64\n",
        "            nn.Tanh(), # [-1,1]\n",
        "    )\n",
        "\n",
        "  def forward(self,x):\n",
        "    return self.gen(x)\n",
        "\n",
        "\n",
        "  def _block(self, in_channels, out_channels, kernel_size, stride, padding):\n",
        "    return nn.Sequential(\n",
        "        nn.ConvTranspose2d(\n",
        "            in_channels,\n",
        "            out_channels,\n",
        "            kernel_size,\n",
        "            stride,\n",
        "            padding,\n",
        "            bias=False\n",
        "        ),\n",
        "        nn.BatchNorm2d(out_channels),\n",
        "        nn.ReLU()\n",
        "    )"
      ],
      "metadata": {
        "id": "7tYN7b9Fggm3"
      },
      "execution_count": 15,
      "outputs": []
    },
    {
      "cell_type": "code",
      "source": [
        "def initialize_weights(model):\n",
        "  for m in model.modules():\n",
        "    if isinstance(m, (nn.Conv2d, nn.ConvTranspose2d, nn.BatchNorm2d)):\n",
        "      nn.init.normal_(m.weight.data, 0.0, 0.02)"
      ],
      "metadata": {
        "id": "DoG9X3GYOFcK"
      },
      "execution_count": 8,
      "outputs": []
    },
    {
      "cell_type": "code",
      "source": [
        "def test():\n",
        "  N, in_channels, H, W = 8, 3, 64, 64\n",
        "  z_dim = 100\n",
        "\n",
        "  x = torch.randn((N, in_channels, H, W))\n",
        "  disc = Discriminator(in_channels, 8)\n",
        "  initialize_weights(disc)\n",
        "  assert disc(x).shape == (N, 1, 1, 1)\n",
        "\n",
        "  gen = Generator(z_dim, in_channels, 8)\n",
        "  initialize_weights(gen)\n",
        "  z = torch.randn((N, z_dim, 1, 1))\n",
        "  assert gen(z).shape == (N, in_channels, H, W)\n",
        "  print(\"Success\")\n",
        "\n",
        "\n",
        "test()"
      ],
      "metadata": {
        "colab": {
          "base_uri": "https://localhost:8080/"
        },
        "id": "b9pCPaHeRVA7",
        "outputId": "cea676fc-2aef-4060-fde6-a424b261b00d"
      },
      "execution_count": 16,
      "outputs": [
        {
          "output_type": "stream",
          "name": "stdout",
          "text": [
            "Success\n"
          ]
        }
      ]
    },
    {
      "cell_type": "code",
      "source": [],
      "metadata": {
        "id": "adks-wurSVZL"
      },
      "execution_count": null,
      "outputs": []
    }
  ]
}